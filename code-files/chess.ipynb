{
 "cells": [
  {
   "cell_type": "markdown",
   "metadata": {},
   "source": [
    "1. creating the chess board with output to svg"
   ]
  },
  {
   "cell_type": "code",
   "execution_count": 8,
   "metadata": {},
   "outputs": [],
   "source": [
    "import chess\n",
    "import chess.svg\n",
    "\n",
    "def display_board(board):\n",
    "    board_svg = chess.svg.board(board=board)\n",
    "    with open(\"chessboard.svg\", \"w\") as svg_file:\n",
    "        svg_file.write(board_svg)\n",
    "\n",
    "if __name__ == \"__main__\":\n",
    "    board = chess.Board()\n",
    "\n",
    "    display_board(board)\n",
    "\n",
    "    board.push(chess.Move.from_uci(\"e2e4\"))\n",
    "    board.push(chess.Move.from_uci(\"e7e5\"))\n",
    "    board.push(chess.Move.from_uci(\"g1f3\"))\n",
    "\n",
    "    display_board(board)"
   ]
  }
 ],
 "metadata": {
  "kernelspec": {
   "display_name": "Python 3",
   "language": "python",
   "name": "python3"
  },
  "language_info": {
   "codemirror_mode": {
    "name": "ipython",
    "version": 3
   },
   "file_extension": ".py",
   "mimetype": "text/x-python",
   "name": "python",
   "nbconvert_exporter": "python",
   "pygments_lexer": "ipython3",
   "version": "3.11.2"
  }
 },
 "nbformat": 4,
 "nbformat_minor": 2
}
